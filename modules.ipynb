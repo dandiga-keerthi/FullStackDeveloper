{
 "cells": [
  {
   "cell_type": "code",
   "execution_count": 3,
   "id": "d78a08ca",
   "metadata": {},
   "outputs": [
    {
     "name": "stdout",
     "output_type": "stream",
     "text": [
      "Password: V7Tk4e\n"
     ]
    }
   ],
   "source": [
    "# 1. Random Password Generator (`random`, `string`) Input: `length=6` , Output: `\"aB9@xQ\"`\n",
    "import random\n",
    "import string\n",
    "length = int(input(\"Enter password length: \"))\n",
    "chars = string.ascii_letters + string.digits + string.punctuation\n",
    "password = ''.join(random.choice(chars) for _ in range(length))\n",
    "print(\"Password:\", password)\n",
    "\n"
   ]
  },
  {
   "cell_type": "code",
   "execution_count": 4,
   "id": "7d086ad8",
   "metadata": {},
   "outputs": [
    {
     "name": "stdout",
     "output_type": "stream",
     "text": [
      "5.0\n"
     ]
    }
   ],
   "source": [
    "#2. Simple Calculator with `math`\n",
    "# Perform sqrt, factorial, sin, cos. Input: `sqrt(25)` Output: `5.0`\n",
    "import math\n",
    "def simple_calculator(expression):\n",
    "    func_name = expression.split('(')[0]\n",
    "    arg = expression.split('(')[1].rstrip(')')\n",
    "    if func_name == 'factorial':\n",
    "        arg = int(arg)\n",
    "    else:\n",
    "        arg = float(arg)\n",
    "    functions = {\n",
    "        'sqrt': math.sqrt,\n",
    "        'factorial': math.factorial,\n",
    "        'sin': math.sin,\n",
    "        'cos': math.cos\n",
    "    }\n",
    "    if func_name in functions:\n",
    "        result = functions[func_name](arg)\n",
    "        return result\n",
    "    else:\n",
    "        return \"Function not supported.\"\n",
    "user_input = input(\"Enter function : \")\n",
    "print(simple_calculator(user_input))\n"
   ]
  },
  {
   "cell_type": "code",
   "execution_count": 6,
   "id": "13c52f38",
   "metadata": {},
   "outputs": [
    {
     "name": "stdout",
     "output_type": "stream",
     "text": [
      "{'cat': 2, 'dog': 1}\n"
     ]
    }
   ],
   "source": [
    "#3. Word Frequency Counter (`collections.Counter`) Input: `\"cat dog cat\"`,Output: `{'cat':2,'dog':1}\n",
    "from collections import Counter\n",
    "text = input(\"Enter a sentence: \")\n",
    "w = text.split()\n",
    "c = Counter(w)\n",
    "print(dict(c))\n"
   ]
  },
  {
   "cell_type": "code",
   "execution_count": 10,
   "id": "825ee07e",
   "metadata": {},
   "outputs": [
    {
     "name": "stdout",
     "output_type": "stream",
     "text": [
      "Weather: Cloudy , Temp: 24°C\n"
     ]
    }
   ],
   "source": [
    "#4. Weather Simulator (`random`) Input: None Output: `\"Weather: Sunny, Temp: 32°C\"`\n",
    "import random\n",
    "def wea():\n",
    "    w=random.choice([\"Sunny\",\"Rainy\",\"Cloudy\",\"Stormy\",\"Windy\",\"Snowy\"])\n",
    "    t=random.randint(-30,50)\n",
    "    return f\"Weather: {w} , Temp: {t}°C\"\n",
    "print(wea())\n"
   ]
  },
  {
   "cell_type": "code",
   "execution_count": 18,
   "id": "15fb1a99",
   "metadata": {},
   "outputs": [
    {
     "name": "stdout",
     "output_type": "stream",
     "text": [
      "6\n",
      "5\n",
      "4\n",
      "3\n",
      "2\n",
      "1\n",
      "Times up!\n"
     ]
    }
   ],
   "source": [
    "#5. Timer Program (`time`) Input: `countdown(5)` Output: 5  4  3  2  1  Time’s up!\n",
    "import time\n",
    "def cd(n):\n",
    "    for i in range(n, 0, -1):\n",
    "        print(i)\n",
    "        time.sleep(1)\n",
    "    print(\"Times up!\")\n",
    "n = int(input(\"Enter countdown seconds: \"))\n",
    "cd(n)\n"
   ]
  }
 ],
 "metadata": {
  "kernelspec": {
   "display_name": "venv",
   "language": "python",
   "name": "python3"
  },
  "language_info": {
   "codemirror_mode": {
    "name": "ipython",
    "version": 3
   },
   "file_extension": ".py",
   "mimetype": "text/x-python",
   "name": "python",
   "nbconvert_exporter": "python",
   "pygments_lexer": "ipython3",
   "version": "3.11.0"
  }
 },
 "nbformat": 4,
 "nbformat_minor": 5
}
