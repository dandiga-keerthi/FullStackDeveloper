{
 "cells": [
  {
   "cell_type": "code",
   "execution_count": 5,
   "id": "93d7000b",
   "metadata": {},
   "outputs": [
    {
     "name": "stdout",
     "output_type": "stream",
     "text": [
      "First no :  8\n",
      "Second no :  4\n",
      "4\n",
      "8\n"
     ]
    }
   ],
   "source": [
    "#1.You are developing a small calculator app. Write a program that takes two numbers from the user and swaps them without using a third variable, so users can correct their input order.#\n",
    "a=(int(input(\"First no :\")))\n",
    "b=(int(input(\"Second no :\")))\n",
    "print(\"First no : \",a)\n",
    "print(\"Second no : \",b)\n",
    "a=a+b\n",
    "b=a-b\n",
    "a=a-b\n",
    "print(a)\n",
    "print(b)"
   ]
  },
  {
   "cell_type": "code",
   "execution_count": null,
   "id": "7ca49c27",
   "metadata": {},
   "outputs": [
    {
     "name": "stdout",
     "output_type": "stream",
     "text": [
      "Original string: hii\n",
      "Reversed string: iih\n"
     ]
    }
   ],
   "source": [
    "#2.A library wants to build a feature to display book titles backwards for a “mirror view” theme. Write a program that reverses a given string without using slicing.#\n",
    "def reverse(s):\n",
    "  return \"\".join(reversed(s))\n",
    "s=input(\"Enter string :\")\n",
    "rs= reverse(s)\n",
    "print(f\"Original string: {s}\")\n",
    "print(f\"Reversed string: {rs}\")\n",
    "    "
   ]
  },
  {
   "cell_type": "code",
   "execution_count": 16,
   "id": "2ef79d9f",
   "metadata": {},
   "outputs": [
    {
     "name": "stdout",
     "output_type": "stream",
     "text": [
      "153 is an Armstrong number\n"
     ]
    }
   ],
   "source": [
    "#An ATM machine verifies special numbers before processing transactions. Write a program to check if a number entered by the customer is an Armstrong number.#\n",
    "num = int(input(\"Enter a number: \"))\n",
    "sum = 0\n",
    "temp = num\n",
    "while temp > 0:\n",
    "   digit = temp % 10\n",
    "   sum += digit ** 3\n",
    "   temp //= 10\n",
    "if num == sum:\n",
    "   print(num,\"is an Armstrong number\")\n",
    "else:\n",
    "   print(num,\"is not an Armstrong number\") "
   ]
  },
  {
   "cell_type": "code",
   "execution_count": 23,
   "id": "92203bd9",
   "metadata": {},
   "outputs": [
    {
     "name": "stdout",
     "output_type": "stream",
     "text": [
      "2 1\n"
     ]
    }
   ],
   "source": [
    "#4. A language learning app wants to check how many vowels and consonants a user has typed in a practice sentence. Write a program to count vowels and consonants in a given sentence.#\n",
    "def c(sentence):\n",
    "    v = \"aeiouAEIOU\"\n",
    "    vc = 0\n",
    "    cc = 0\n",
    "    for char in sentence:\n",
    "        if 'a' <= char.lower() <= 'z': \n",
    "            if char in v:\n",
    "                vc += 1\n",
    "            else:\n",
    "                cc += 1\n",
    "    return vc, cc\n",
    "s = input()\n",
    "vo, co = c(s)\n",
    "print(vo,co)\n",
    "\n"
   ]
  },
  {
   "cell_type": "code",
   "execution_count": null,
   "id": "1efb2da9",
   "metadata": {},
   "outputs": [
    {
     "name": "stdout",
     "output_type": "stream",
     "text": [
      "5\n",
      "10\n",
      "15\n",
      "20\n",
      "25\n",
      "30\n",
      "35\n",
      "40\n",
      "45\n",
      "50\n"
     ]
    }
   ],
   "source": [
    "#5.In an e-learning platform, when a student inputs a number, the system should generate its multiplication table (up to 10) as practice material. Write a program to do this.\n",
    "a=int(input(\"Enter no:\"))\n",
    "for i in range(1,11):\n",
    "    print(a*i)\n"
   ]
  },
  {
   "cell_type": "code",
   "execution_count": null,
   "id": "7a13d1b3",
   "metadata": {},
   "outputs": [
    {
     "name": "stdout",
     "output_type": "stream",
     "text": [
      "Leap year\n"
     ]
    }
   ],
   "source": [
    "#6.A travel company checks leap years to calculate special discounts on leap day. Write a program to check if a given year is a leap year.\n",
    "year = int(input(\"Enter year:\"))\n",
    "if ((year % 4 == 0 and year % 100 != 0) or (year % 400 == 0)):\n",
    "    print(\"Leap year\")\n",
    "else:\n",
    "    print(\"Not leap year\")\n"
   ]
  },
  {
   "cell_type": "code",
   "execution_count": 38,
   "id": "354a73fe",
   "metadata": {},
   "outputs": [
    {
     "name": "stdout",
     "output_type": "stream",
     "text": [
      "Max number: 98\n"
     ]
    }
   ],
   "source": [
    "#7.A gaming app wants to determine the highest score out of 5 attempts. Write a program to take 5 numbers as input and print the largest.\n",
    "user = input(\"Enter the numbers separated by a space \").split()\n",
    "list = list(map(int, user))\n",
    "print (\"Max number:\",max(list)) "
   ]
  },
  {
   "cell_type": "code",
   "execution_count": 40,
   "id": "f6555681",
   "metadata": {},
   "outputs": [
    {
     "data": {
      "text/plain": [
       "False"
      ]
     },
     "execution_count": 40,
     "metadata": {},
     "output_type": "execute_result"
    }
   ],
   "source": [
    "#8.A healthcare app stores patient IDs and checks if they are palindromes for easy recall. Write a program that checks if a given string ID is a palindrome.\n",
    "def is_palindrome(text):\n",
    "    r = text[::-1]  \n",
    "    \n",
    "    return text == r\n",
    "t=input()\n",
    "is_palindrome(t)"
   ]
  },
  {
   "cell_type": "code",
   "execution_count": 43,
   "id": "9c1cb8d4",
   "metadata": {},
   "outputs": [
    {
     "data": {
      "text/plain": [
       "6"
      ]
     },
     "execution_count": 43,
     "metadata": {},
     "output_type": "execute_result"
    }
   ],
   "source": [
    "#9.A factory wants to calculate the number of ways workers can be arranged in a line. Write a program to find the factorial of a number.\n",
    "def fac(n):\n",
    "    if(n==0 or n==1):\n",
    "        return 1\n",
    "    return n*fac(n-1)\n",
    "num=int(input())\n",
    "fac(num)"
   ]
  },
  {
   "cell_type": "code",
   "execution_count": null,
   "id": "4155d0d0",
   "metadata": {},
   "outputs": [
    {
     "name": "stdout",
     "output_type": "stream",
     "text": [
      "15\n",
      "30\n",
      "45\n",
      "60\n",
      "75\n",
      "90\n"
     ]
    }
   ],
   "source": [
    "#10. A company gives rewards for numbers divisible by both 3 and 5. Write a program to print all numbers between 1 and 100 that qualify.\n",
    "for i in range(1,100):\n",
    "    if(i%3==0 and i%5==0):\n",
    "        print(i)"
   ]
  }
 ],
 "metadata": {
  "kernelspec": {
   "display_name": "venv",
   "language": "python",
   "name": "python3"
  },
  "language_info": {
   "codemirror_mode": {
    "name": "ipython",
    "version": 3
   },
   "file_extension": ".py",
   "mimetype": "text/x-python",
   "name": "python",
   "nbconvert_exporter": "python",
   "pygments_lexer": "ipython3",
   "version": "3.11.0"
  }
 },
 "nbformat": 4,
 "nbformat_minor": 5
}
