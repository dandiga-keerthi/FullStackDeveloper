{
 "cells": [
  {
   "cell_type": "code",
   "execution_count": 2,
   "id": "55064bb3",
   "metadata": {},
   "outputs": [
    {
     "name": "stdout",
     "output_type": "stream",
     "text": [
      "[0, 1, 1, 2, 3, 5, 8]\n"
     ]
    }
   ],
   "source": [
    "#1. Fibonacci Generator * Function generates n Fibonacci numbers. * Input: n = 7 * Output: [0, 1, 1, 2, 3, 5, 8]\n",
    "def fibonacci(n):\n",
    "    seq = [0, 1]\n",
    "    while len(seq) < n:\n",
    "        seq.append(seq[-1] + seq[-2])\n",
    "    return seq[:n]\n",
    "n=int(input())\n",
    "print(fibonacci(n))"
   ]
  },
  {
   "cell_type": "code",
   "execution_count": 3,
   "id": "34ae54e0",
   "metadata": {},
   "outputs": [
    {
     "name": "stdout",
     "output_type": "stream",
     "text": [
      "40320\n"
     ]
    }
   ],
   "source": [
    "#2.⁠ ⁠Factorial Using Recursion . Compute factorial using recursion. ⁠Input: ⁠ 5 ⁠,⁠Output: ⁠ 120 ⁠\n",
    "def factorial(n):\n",
    "    if n == 0 or n == 1:\n",
    "        return 1\n",
    "    return n * factorial(n - 1)\n",
    "num = int(input())\n",
    "print(factorial(num))"
   ]
  },
  {
   "cell_type": "code",
   "execution_count": 5,
   "id": "af70ae23",
   "metadata": {},
   "outputs": [
    {
     "name": "stdout",
     "output_type": "stream",
     "text": [
      "{'cat': 2, 'dog': 1}\n"
     ]
    }
   ],
   "source": [
    "#3.⁠ ⁠Unique Words Counter.Return unique words in a sentence. ⁠Input: ⁠ \"apple banana apple orange banana\" ⁠,⁠Output: ⁠ {'apple':2,'banana':2,'orange':1} ⁠\n",
    "def unique_word_counter(sentence):\n",
    "    words = sentence.split()\n",
    "    counter = {}\n",
    "    for w in words:\n",
    "        counter[w] = counter.get(w, 0) + 1\n",
    "    return counter\n",
    "\n",
    "sentence = input(\"Enter a sentence: \")\n",
    "print(unique_word_counter(sentence))"
   ]
  },
  {
   "cell_type": "code",
   "execution_count": 6,
   "id": "c875b192",
   "metadata": {},
   "outputs": [
    {
     "name": "stdout",
     "output_type": "stream",
     "text": [
      "Grade: A\n"
     ]
    }
   ],
   "source": [
    "#4. Grade Calculator * Function takes marks and returns grade. * Input: [85, 90, 78] * Output: \"Grade: A\"\n",
    "def grade_calculator(marks):\n",
    "    avg = sum(marks) / len(marks)\n",
    "    if avg >= 90:\n",
    "        return \"Grade: A+\"\n",
    "    elif avg >= 80:\n",
    "        return \"Grade: A\"\n",
    "    elif avg >= 70:\n",
    "        return \"Grade: B\"\n",
    "    elif avg >= 60:\n",
    "        return \"Grade: C\"\n",
    "    else:\n",
    "        return \"Grade: F\"\n",
    "\n",
    "marks = list(map(int, input(\"Enter marks separated by space: \").split()))\n",
    "print(grade_calculator(marks))"
   ]
  },
  {
   "cell_type": "code",
   "execution_count": 9,
   "id": "59cddd6c",
   "metadata": {},
   "outputs": [
    {
     "name": "stdout",
     "output_type": "stream",
     "text": [
      "Second largest: 10\n"
     ]
    }
   ],
   "source": [
    "#5. Second Largest Number * Return 2nd largest number from a list. * Input: [10, 5, 20, 8] * Output: 10\n",
    "def second_largest(nums):\n",
    "    unique_nums = list(set(nums))\n",
    "    unique_nums.sort(reverse=True)\n",
    "    return unique_nums[1] if len(unique_nums) > 1 else None\n",
    "\n",
    "nums = list(map(int, input(\"Enter numbers separated by space: \").split()))\n",
    "print(\"Second largest:\", second_largest(nums))"
   ]
  }
 ],
 "metadata": {
  "kernelspec": {
   "display_name": "venv",
   "language": "python",
   "name": "python3"
  },
  "language_info": {
   "codemirror_mode": {
    "name": "ipython",
    "version": 3
   },
   "file_extension": ".py",
   "mimetype": "text/x-python",
   "name": "python",
   "nbconvert_exporter": "python",
   "pygments_lexer": "ipython3",
   "version": "3.11.0"
  }
 },
 "nbformat": 4,
 "nbformat_minor": 5
}
