{
 "cells": [
  {
   "cell_type": "code",
   "execution_count": null,
   "id": "2a66ea62",
   "metadata": {},
   "outputs": [
    {
     "name": "stdout",
     "output_type": "stream",
     "text": [
      "Balance: 120.0\n"
     ]
    }
   ],
   "source": [
    "#1.Bank Account Class\n",
    "#Attributes:`balance` → stores the current money in the account ,`owner` (optional) → name of account holder\n",
    "#Methods:`deposit(amount)` → adds money to balance,`withdraw(amount)` → subtracts money if enough funds ,`get_balance()` → returns balance\n",
    "class BankAccount:\n",
    "    def __init__(self, balance):\n",
    "        self.balance = balance\n",
    "    def deposit(self, amt): self.balance += amt\n",
    "    def withdraw(self, amt):\n",
    "        if amt <= self.balance: self.balance -= amt\n",
    "        else: print(\"Insufficient funds\")\n",
    "    def get_balance(self): return self.balance\n",
    "\n",
    "acc = BankAccount(float(input(\"Initial balance: \")))\n",
    "while True:\n",
    "    cmd = input(\"(deposit, withdraw, balance, exit): \").lower()\n",
    "    if cmd == \"deposit\": acc.deposit(float(input(\"Amount: \")))\n",
    "    elif cmd == \"withdraw\": acc.withdraw(float(input(\"Amount: \")))\n",
    "    elif cmd == \"balance\": print(\"Balance:\", acc.get_balance())\n",
    "    elif cmd == \"exit\": break\n"
   ]
  },
  {
   "cell_type": "code",
   "execution_count": null,
   "id": "a6d081e7",
   "metadata": {},
   "outputs": [
    {
     "name": "stdout",
     "output_type": "stream",
     "text": [
      "Average: 80.0\n",
      "Highest: 90.0\n",
      "Lowest: 70.0\n"
     ]
    }
   ],
   "source": [
    "#2. Student Class with Average\n",
    "#Attributes:`name` → student name ,`marks` → list of student marks `[90, 80, 85]`\n",
    "#Methods:`get_average()` → returns average marks ,`add_mark(mark)` → add new score,`get_highest()` → return highest mark,`get_lowest()` → return lowest mark\n",
    "class Student:\n",
    "    def __init__(self, name, marks):\n",
    "        self.name = name\n",
    "        self.marks = marks\n",
    "    def avg(self): return sum(self.marks)/len(self.marks) if self.marks else 0\n",
    "    def add_mark(self, m): self.marks.append(m)\n",
    "    def highest(self): return max(self.marks) if self.marks else None\n",
    "    def lowest(self): return min(self.marks) if self.marks else None\n",
    "\n",
    "name = input(\"Name: \")\n",
    "marks = list(map(float, input(\"Marks: \").split()))\n",
    "s = Student(name, marks)\n",
    "while True:\n",
    "    cmd = input(\"(average, add, highest, lowest, exit): \").lower()\n",
    "    if cmd == \"average\": print(\"Average:\", s.avg())\n",
    "    elif cmd == \"add\": s.add_mark(float(input(\"Mark: \")))\n",
    "    elif cmd == \"highest\": print(\"Highest:\", s.highest())\n",
    "    elif cmd == \"lowest\": print(\"Lowest:\", s.lowest())\n",
    "    elif cmd == \"exit\": break\n"
   ]
  }
 ],
 "metadata": {
  "kernelspec": {
   "display_name": "venv",
   "language": "python",
   "name": "python3"
  },
  "language_info": {
   "codemirror_mode": {
    "name": "ipython",
    "version": 3
   },
   "file_extension": ".py",
   "mimetype": "text/x-python",
   "name": "python",
   "nbconvert_exporter": "python",
   "pygments_lexer": "ipython3",
   "version": "3.11.0"
  }
 },
 "nbformat": 4,
 "nbformat_minor": 5
}
