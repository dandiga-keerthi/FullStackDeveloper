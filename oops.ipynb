{
 "cells": [
  {
   "cell_type": "code",
   "execution_count": null,
   "id": "2a66ea62",
   "metadata": {},
   "outputs": [
    {
     "name": "stdout",
     "output_type": "stream",
     "text": [
      "Balance: 120.0\n"
     ]
    }
   ],
   "source": [
    "#1.Bank Account Class\n",
    "#Attributes:`balance` → stores the current money in the account ,`owner` (optional) → name of account holder\n",
    "#Methods:`deposit(amount)` → adds money to balance,`withdraw(amount)` → subtracts money if enough funds ,`get_balance()` → returns balance\n",
    "class BankAccount:\n",
    "    def __init__(self, balance):\n",
    "        self.balance = balance\n",
    "    def deposit(self, amt): self.balance += amt\n",
    "    def withdraw(self, amt):\n",
    "        if amt <= self.balance: self.balance -= amt\n",
    "        else: print(\"Insufficient funds\")\n",
    "    def get_balance(self): return self.balance\n",
    "\n",
    "acc = BankAccount(float(input(\"Initial balance: \")))\n",
    "while True:\n",
    "    cmd = input(\"(deposit, withdraw, balance, exit): \").lower()\n",
    "    if cmd == \"deposit\": acc.deposit(float(input(\"Amount: \")))\n",
    "    elif cmd == \"withdraw\": acc.withdraw(float(input(\"Amount: \")))\n",
    "    elif cmd == \"balance\": print(\"Balance:\", acc.get_balance())\n",
    "    elif cmd == \"exit\": break\n"
   ]
  },
  {
   "cell_type": "code",
   "execution_count": null,
   "id": "a6d081e7",
   "metadata": {},
   "outputs": [
    {
     "name": "stdout",
     "output_type": "stream",
     "text": [
      "Average: 80.0\n",
      "Highest: 90.0\n",
      "Lowest: 70.0\n"
     ]
    }
   ],
   "source": [
    "#2. Student Class with Average\n",
    "#Attributes:`name` → student name ,`marks` → list of student marks `[90, 80, 85]`\n",
    "#Methods:`get_average()` → returns average marks ,`add_mark(mark)` → add new score,`get_highest()` → return highest mark,`get_lowest()` → return lowest mark\n",
    "class Student:\n",
    "    def __init__(self, name, marks):\n",
    "        self.name = name\n",
    "        self.marks = marks\n",
    "    def avg(self): return sum(self.marks)/len(self.marks) if self.marks else 0\n",
    "    def add_mark(self, m): self.marks.append(m)\n",
    "    def highest(self): return max(self.marks) if self.marks else None\n",
    "    def lowest(self): return min(self.marks) if self.marks else None\n",
    "\n",
    "name = input(\"Name: \")\n",
    "marks = list(map(float, input(\"Marks: \").split()))\n",
    "s = Student(name, marks)\n",
    "while True:\n",
    "    cmd = input(\"(average, add, highest, lowest, exit): \").lower()\n",
    "    if cmd == \"average\": print(\"Average:\", s.avg())\n",
    "    elif cmd == \"add\": s.add_mark(float(input(\"Mark: \")))\n",
    "    elif cmd == \"highest\": print(\"Highest:\", s.highest())\n",
    "    elif cmd == \"lowest\": print(\"Lowest:\", s.lowest())\n",
    "    elif cmd == \"exit\": break\n"
   ]
  },
  {
   "cell_type": "code",
   "execution_count": 1,
   "id": "54e5ad7d",
   "metadata": {},
   "outputs": [
    {
     "name": "stdout",
     "output_type": "stream",
     "text": [
      "Bonus: 4000.0\n"
     ]
    }
   ],
   "source": [
    "#3. Employee Bonus System Attributes: * name → employee name * salary → base salary * role → role of employee (e.g., Manager, Developer, Intern) Methods: * bonus() → calculates bonus depending on role: * Manager → 20% of salary * Developer → 10% of salary * Intern → 5% of salary\n",
    "class Employee:\n",
    "    def __init__(self, name, salary, role):\n",
    "        self.name = name\n",
    "        self.salary = salary\n",
    "        self.role = role\n",
    "    def bonus(self):\n",
    "        if self.role.lower() == \"manager\":\n",
    "            return self.salary * 0.20\n",
    "        elif self.role.lower() == \"developer\":\n",
    "            return self.salary * 0.10\n",
    "        elif self.role.lower() == \"intern\":\n",
    "            return self.salary * 0.05\n",
    "        else:\n",
    "            return 0\n",
    "name = input(\"Enter employee name: \")\n",
    "salary = float(input(\"Enter salary: \"))\n",
    "role = input(\"Enter role (Manager, Developer, Intern): \")\n",
    "emp = Employee(name, salary, role)\n",
    "print(\"Bonus:\", emp.bonus())\n",
    "\n"
   ]
  },
  {
   "cell_type": "code",
   "execution_count": 2,
   "id": "06342a5f",
   "metadata": {},
   "outputs": [
    {
     "name": "stdout",
     "output_type": "stream",
     "text": [
      "Area: 50.27\n"
     ]
    }
   ],
   "source": [
    "#4. Shape Area Calculator Base Class (Shape): *Attribute: name *Method: area() → to be overridden by subclasses Subclasses: * Circle(radius) → area = π × r² * Rectangle(width, height) → area = width × height\n",
    "import math\n",
    "class Shape:\n",
    "    def __init__(self, name):\n",
    "        self.name = name\n",
    "    def area(self):\n",
    "        raise NotImplementedError(\"Subclasses must implement this method\")\n",
    "\n",
    "class Circle(Shape):\n",
    "    def __init__(self, radius):\n",
    "        super().__init__(\"Circle\")\n",
    "        self.radius = radius\n",
    "    def area(self):\n",
    "        return round(math.pi * (self.radius ** 2), 2)\n",
    "\n",
    "class Rectangle(Shape):\n",
    "    def __init__(self, width, height):\n",
    "        super().__init__(\"Rectangle\")\n",
    "        self.width = width\n",
    "        self.height = height\n",
    "    def area(self):\n",
    "        return self.width * self.height\n",
    "\n",
    "shape_type = input(\"Enter shape (circle or rectangle): \").lower()\n",
    "if shape_type == \"circle\":\n",
    "    r = float(input(\"Enter radius: \"))\n",
    "    c = Circle(r)\n",
    "    print(\"Area:\", c.area())\n",
    "elif shape_type == \"rectangle\":\n",
    "    w = float(input(\"Enter width: \"))\n",
    "    h = float(input(\"Enter height: \"))\n",
    "    r = Rectangle(w, h)\n",
    "    print(\"Area:\", r.area())\n",
    "else:\n",
    "    print(\"Unsupported shape\")\n"
   ]
  },
  {
   "cell_type": "code",
   "execution_count": null,
   "id": "d4e14201",
   "metadata": {},
   "outputs": [],
   "source": [
    "#5. E-commerce Order Class Attributes: * items → dictionary of items {name: price} Methods: * add(item, price) → adds an item to order * remove(item) → removes item * calculate_total() → returns total price of all items * show_items() → lists all items in order\n",
    "class Order:\n",
    "    def __init__(self):\n",
    "        self.items = {}\n",
    "    def add(self, item, price):\n",
    "        self.items[item] = price\n",
    "    def remove(self, item):\n",
    "        if item in self.items:\n",
    "            del self.items[item]\n",
    "        else:\n",
    "            print(f\"{item} not found.\")\n",
    "    def calculate_total(self):\n",
    "        return sum(self.items.values())\n",
    "    def show_items(self):\n",
    "        for item, price in self.items.items():\n",
    "            print(f\"{item}: {price}\")\n",
    "\n",
    "order = Order()\n",
    "while True:\n",
    "    cmd = input(\"Enter command (add, remove, total, show, exit): \").lower()\n",
    "    if cmd == \"add\":\n",
    "        item = input(\"Item name: \")\n",
    "        price = float(input(\"Price: \"))\n",
    "        order.add(item, price)\n",
    "    elif cmd == \"remove\":\n",
    "        item = input(\"Item to remove: \")\n",
    "        order.remove(item)\n",
    "    elif cmd == \"total\":\n",
    "        print(\"Total =\", order.calculate_total())\n",
    "    elif cmd == \"show\":\n",
    "        order.show_items()\n",
    "    elif cmd == \"exit\":\n",
    "        break\n",
    "    else:\n",
    "        print(\"Invalid command.\")\n"
   ]
  }
 ],
 "metadata": {
  "kernelspec": {
   "display_name": "venv",
   "language": "python",
   "name": "python3"
  },
  "language_info": {
   "codemirror_mode": {
    "name": "ipython",
    "version": 3
   },
   "file_extension": ".py",
   "mimetype": "text/x-python",
   "name": "python",
   "nbconvert_exporter": "python",
   "pygments_lexer": "ipython3",
   "version": "3.11.0"
  }
 },
 "nbformat": 4,
 "nbformat_minor": 5
}
