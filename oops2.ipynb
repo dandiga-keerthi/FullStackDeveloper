{
 "cells": [
  {
   "cell_type": "code",
   "execution_count": 1,
   "id": "8cc9e3fd",
   "metadata": {},
   "outputs": [
    {
     "name": "stdout",
     "output_type": "stream",
     "text": [
      "You borrowed Python 101\n"
     ]
    }
   ],
   "source": [
    "#1. Library System Create a Library class with: *Attributes: books (dict with book title → copies available) *Methods: * borrow(title) → decreases stock if available * return_book(title) → increases stock * show_books() → prints all available books\n",
    "class Library:\n",
    "    def __init__(self, books):\n",
    "        self.books = books\n",
    "    def borrow(self, title):\n",
    "        if title in self.books and self.books[title] > 0:\n",
    "            self.books[title] -= 1\n",
    "            return f\"You borrowed {title}\"\n",
    "        return \"Book not available\"\n",
    "    def return_book(self, title):\n",
    "        if title in self.books:\n",
    "            self.books[title] += 1\n",
    "            return f\"You returned {title}\"\n",
    "        return \"Book not in library\"\n",
    "    def show_books(self):\n",
    "        print(\"Available books:\", self.books)\n",
    "lib = Library({\"Python 101\": 3, \"Data Science\": 2})\n",
    "choice = input(\"\\nEnter action (borrow/return/show): \")\n",
    "if choice == \"borrow\":\n",
    "    print(lib.borrow(input(\"Enter book title: \")))\n",
    "elif choice == \"return\":\n",
    "    print(lib.return_book(input(\"Enter book title: \")))\n",
    "else:\n",
    "    lib.show_books()"
   ]
  },
  {
   "cell_type": "code",
   "execution_count": 3,
   "id": "cfabb655",
   "metadata": {},
   "outputs": [
    {
     "name": "stdout",
     "output_type": "stream",
     "text": [
      "Access Granted\n",
      "Deposited 500\n",
      "Withdrew 50\n",
      "Balance: 950\n"
     ]
    }
   ],
   "source": [
    "#2.ATM Machine with PIN Create an ATM class with: *Attributes: balance, pin, is_authenticated *Methods: * login(pin) → checks PIN * check_balance() * deposit(amount) * withdraw(amount)\n",
    "class ATM:\n",
    "    def __init__(self, pin, balance):\n",
    "        self.pin = pin\n",
    "        self.balance = balance\n",
    "        self.is_authenticated = False\n",
    "\n",
    "    def login(self, pin):\n",
    "        if pin == self.pin:\n",
    "            self.is_authenticated = True\n",
    "            return \"Access Granted\"\n",
    "        return \"Wrong PIN\"\n",
    "\n",
    "    def check_balance(self):\n",
    "        if self.is_authenticated:\n",
    "            return f\"Balance: {self.balance}\"\n",
    "        return \"Login Required\"\n",
    "\n",
    "    def deposit(self, amount):\n",
    "        if self.is_authenticated:\n",
    "            self.balance += amount\n",
    "            return f\"Deposited {amount}\"\n",
    "        return \"Login Required\"\n",
    "\n",
    "    def withdraw(self, amount):\n",
    "        if self.is_authenticated:\n",
    "            if amount <= self.balance:\n",
    "                self.balance -= amount\n",
    "                return f\"Withdrew {amount}\"\n",
    "            return \"Insufficient Balance\"\n",
    "        return \"Login Required\"\n",
    "\n",
    "\n",
    "atm = ATM(1234, 500)\n",
    "print(atm.login(int(input(\"\\nEnter PIN: \"))))\n",
    "print(atm.deposit(int(input(\"Enter deposit amount: \"))))\n",
    "print(atm.withdraw(int(input(\"Enter withdrawal amount: \"))))\n",
    "print(atm.check_balance())\n",
    "\n"
   ]
  },
  {
   "cell_type": "code",
   "execution_count": 6,
   "id": "76ee803e",
   "metadata": {},
   "outputs": [
    {
     "name": "stdout",
     "output_type": "stream",
     "text": [
      "tom is teaching English\n",
      "Reetha enrolled in English\n",
      "tom assigned: English\n",
      "Reetha submitted: English\n"
     ]
    }
   ],
   "source": [
    "#3. University System Create Professor and Student classes. *Professor Attributes: name, subject *Professor Methods: teach(course), give_assignment(task) *Student Attributes: name, courses, assignments *Student Methods: enroll(course), submit_assignment(task)\n",
    "class Professor:\n",
    "    def __init__(self, name, subject):\n",
    "        self.name = name\n",
    "        self.subject = subject\n",
    "\n",
    "    def teach(self, course):\n",
    "        return f\"{self.name} is teaching {course}\"\n",
    "\n",
    "    def give_assignment(self, task):\n",
    "        return f\"{self.name} assigned: {task}\"\n",
    "\n",
    "\n",
    "class Student:\n",
    "    def __init__(self, name):\n",
    "        self.name = name\n",
    "        self.courses = []\n",
    "        self.assignments = []\n",
    "\n",
    "    def enroll(self, course):\n",
    "        self.courses.append(course)\n",
    "        return f\"{self.name} enrolled in {course}\"\n",
    "\n",
    "    def submit_assignment(self, task):\n",
    "        self.assignments.append(task)\n",
    "        return f\"{self.name} submitted: {task}\"\n",
    "\n",
    "\n",
    "prof = Professor(input(\"\\nEnter professor name: \"), input(\"Enter subject: \"))\n",
    "stud = Student(input(\"Enter student name: \"))\n",
    "print(prof.teach(input(\"Enter course to teach: \")))\n",
    "print(stud.enroll(input(\"Enter course to enroll: \")))\n",
    "print(prof.give_assignment(input(\"Enter assignment: \")))\n",
    "print(stud.submit_assignment(input(\"Enter assignment to submit: \")))"
   ]
  },
  {
   "cell_type": "code",
   "execution_count": 7,
   "id": "c71f222b",
   "metadata": {},
   "outputs": [
    {
     "name": "stdout",
     "output_type": "stream",
     "text": [
      "Booked 5 tickets for Avatar\n"
     ]
    }
   ],
   "source": [
    "#4. Movie Ticket Booking Create a Cinema class with: *Attributes: movies (dict → movie: seats available) *Methods: * book(movie, seats) → reduces seat count * cancel(movie, seats) → adds back seats * show_movies() → shows available seats\n",
    "class Cinema:\n",
    "    def __init__(self, movies):\n",
    "        self.movies = movies\n",
    "\n",
    "    def book(self, movie, seats):\n",
    "        if movie in self.movies and self.movies[movie] >= seats:\n",
    "            self.movies[movie] -= seats\n",
    "            return f\"Booked {seats} tickets for {movie}\"\n",
    "        return \"Not enough seats\"\n",
    "\n",
    "    def cancel(self, movie, seats):\n",
    "        if movie in self.movies:\n",
    "            self.movies[movie] += seats\n",
    "            return f\"Cancelled {seats} ticket for {movie}\"\n",
    "        return \"Movie not found\"\n",
    "\n",
    "    def show_movies(self):\n",
    "        print(\"Movies:\", self.movies)\n",
    "\n",
    "\n",
    "cinema = Cinema({\"Avatar\": 10, \"Batman\": 5})\n",
    "action = input(\"\\nEnter action (book/cancel/show): \")\n",
    "if action == \"book\":\n",
    "    print(cinema.book(input(\"Movie name: \"), int(input(\"Seats: \"))))\n",
    "elif action == \"cancel\":\n",
    "    print(cinema.cancel(input(\"Movie name: \"), int(input(\"Seats: \"))))\n",
    "else:\n",
    "    cinema.show_movies()\n"
   ]
  },
  {
   "cell_type": "code",
   "execution_count": 9,
   "id": "eac9d72b",
   "metadata": {},
   "outputs": [
    {
     "name": "stdout",
     "output_type": "stream",
     "text": [
      "Book added\n",
      "Book price updated to 60\n",
      "Menu: {'Book': 60}\n"
     ]
    }
   ],
   "source": [
    "#5.Restaurant Menu Create a Menu class with: *Attributes: items (dict → item: price) *Methods: * add_item(name, price) * remove_item(name) * update_price(name, new_price) * show_menu()\n",
    "class Menu:\n",
    "    def __init__(self):\n",
    "        self.items = {}\n",
    "\n",
    "    def add_item(self, name, price):\n",
    "        self.items[name] = price\n",
    "        return f\"{name} added\"\n",
    "\n",
    "    def remove_item(self, name):\n",
    "        if name in self.items:\n",
    "            del self.items[name]\n",
    "            return f\"{name} removed\"\n",
    "        return \"Item not found\"\n",
    "\n",
    "    def update_price(self, name, new_price):\n",
    "        if name in self.items:\n",
    "            self.items[name] = new_price\n",
    "            return f\"{name} price updated to {new_price}\"\n",
    "        return \"Item not found\"\n",
    "\n",
    "    def show_menu(self):\n",
    "        print(\"Menu:\", self.items)\n",
    "\n",
    "\n",
    "menu = Menu()\n",
    "while True:\n",
    "    act = input(\"\\nChoose (add/remove/update/show/exit): \")\n",
    "    if act == \"add\":\n",
    "        print(menu.add_item(input(\"Item: \"), int(input(\"Price: \"))))\n",
    "    elif act == \"remove\":\n",
    "        print(menu.remove_item(input(\"Item: \")))\n",
    "    elif act == \"update\":\n",
    "        print(menu.update_price(input(\"Item: \"), int(input(\"New Price: \"))))\n",
    "    elif act == \"show\":\n",
    "        menu.show_menu()\n",
    "    else:\n",
    "        break"
   ]
  }
 ],
 "metadata": {
  "kernelspec": {
   "display_name": "venv",
   "language": "python",
   "name": "python3"
  },
  "language_info": {
   "codemirror_mode": {
    "name": "ipython",
    "version": 3
   },
   "file_extension": ".py",
   "mimetype": "text/x-python",
   "name": "python",
   "nbconvert_exporter": "python",
   "pygments_lexer": "ipython3",
   "version": "3.11.0"
  }
 },
 "nbformat": 4,
 "nbformat_minor": 5
}
