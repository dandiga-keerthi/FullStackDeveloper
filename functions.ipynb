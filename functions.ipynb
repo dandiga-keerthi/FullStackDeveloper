{
 "cells": [
  {
   "cell_type": "code",
   "execution_count": 1,
   "id": "a4e8be10",
   "metadata": {},
   "outputs": [
    {
     "name": "stdout",
     "output_type": "stream",
     "text": [
      "Prime numbers up to 20 are: [2, 3, 5, 7, 11, 13, 17, 19]\n"
     ]
    }
   ],
   "source": [
    "#1. Prime Number Finder\n",
    "#  Function that returns all prime numbers up to `n`. Input: `n = 20`Output: `[2, 3, 5, 7, 11, 13, 17, 19]`\n",
    "def find_prime_numbers(n):\n",
    "    primes = []\n",
    "    for num in range(2, n + 1):\n",
    "        is_prime = True\n",
    "        for i in range(2, int(num**0.5) + 1):\n",
    "            if num % i == 0:\n",
    "                is_prime = False\n",
    "                break\n",
    "        if is_prime:\n",
    "            primes.append(num)\n",
    "    return primes\n",
    "n = int(input(\"Enter a number: \"))\n",
    "print(\"Prime numbers up to\", n, \"are:\", find_prime_numbers(n))\n",
    "\n",
    "\n"
   ]
  },
  {
   "cell_type": "code",
   "execution_count": 3,
   "id": "2aea4fde",
   "metadata": {},
   "outputs": [
    {
     "data": {
      "text/plain": [
       "True"
      ]
     },
     "execution_count": 3,
     "metadata": {},
     "output_type": "execute_result"
    }
   ],
   "source": [
    "#2. Palindrome Checker\n",
    "# Check if a string is palindrome (ignoring spaces & case). Input: `\"Never odd or even\"`,Output: `True`\n",
    "def palindrome(text):\n",
    "    c = text.replace(\" \", \"\").lower()\n",
    "    return c == c[::-1]\n",
    "input_text = input(\"Enter a string: \")\n",
    "palindrome(input_text)\n"
   ]
  },
  {
   "cell_type": "code",
   "execution_count": 5,
   "id": "2d8597af",
   "metadata": {},
   "outputs": [
    {
     "data": {
      "text/plain": [
       "True"
      ]
     },
     "execution_count": 5,
     "metadata": {},
     "output_type": "execute_result"
    }
   ],
   "source": [
    "#3. Anagram Checker\n",
    "# Function checks if two words are anagrams. Input: `\"listen\", \"silent\"`,Output: `True`\n",
    "def anagram(word1, word2):\n",
    "    word1 = word1.replace(\" \", \"\").lower()\n",
    "    word2 = word2.replace(\" \", \"\").lower()\n",
    "    return sorted(word1) == sorted(word2)\n",
    "w1 = input(\"Enter first word: \")\n",
    "w2 = input(\"Enter second word: \")\n",
    "anagram(w1, w2)\n"
   ]
  },
  {
   "cell_type": "code",
   "execution_count": null,
   "id": "7054bcf0",
   "metadata": {},
   "outputs": [
    {
     "data": {
      "text/plain": [
       "'Vowels=2, Consonants=3'"
      ]
     },
     "execution_count": 6,
     "metadata": {},
     "output_type": "execute_result"
    }
   ],
   "source": [
    "#4. Count Vowels & Consonants\n",
    "# Return count of vowels & consonants. Input: `\"hello\"`,Output: `Vowels=2, Consonants=3`\n",
    "def vowels_consonants(text):\n",
    "    vowels = 'aeiouAEIOU'\n",
    "    vowelc= 0\n",
    "    consonantc = 0\n",
    "    for char in text:\n",
    "        if char.isalpha():\n",
    "            if char in vowels:\n",
    "                vowelc += 1\n",
    "            else:\n",
    "                consonantc += 1\n",
    "    return f\"Vowels={vowelc}, Consonants={consonantc}\"\n",
    "s=input()\n",
    "vowels_consonants(s)\n",
    "\n"
   ]
  },
  {
   "cell_type": "code",
   "execution_count": 7,
   "id": "46eb6375",
   "metadata": {},
   "outputs": [
    {
     "name": "stdout",
     "output_type": "stream",
     "text": [
      "Longest word: amazing\n"
     ]
    }
   ],
   "source": [
    "#5. Longest Word Finder\n",
    "# Return longest word in a sentence. Input: `\"Python is amazing\"`,Output: `\"amazing\"`.\n",
    "def longest_word(sentence):\n",
    "    words = sentence.split()\n",
    "    if not words:\n",
    "        return \"\"  \n",
    "    return max(words, key=len)\n",
    "user_input = input(\"Enter a sentence: \")\n",
    "result = longest_word(user_input)\n",
    "print(\"Longest word:\", result)\n"
   ]
  }
 ],
 "metadata": {
  "kernelspec": {
   "display_name": "venv",
   "language": "python",
   "name": "python3"
  },
  "language_info": {
   "codemirror_mode": {
    "name": "ipython",
    "version": 3
   },
   "file_extension": ".py",
   "mimetype": "text/x-python",
   "name": "python",
   "nbconvert_exporter": "python",
   "pygments_lexer": "ipython3",
   "version": "3.11.0"
  }
 },
 "nbformat": 4,
 "nbformat_minor": 5
}
