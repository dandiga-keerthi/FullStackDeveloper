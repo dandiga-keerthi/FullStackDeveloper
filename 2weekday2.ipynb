{
 "cells": [
  {
   "cell_type": "code",
   "execution_count": null,
   "id": "7470ddea",
   "metadata": {},
   "outputs": [
    {
     "name": "stdout",
     "output_type": "stream",
     "text": [
      "Total number of words: 5\n"
     ]
    }
   ],
   "source": [
    "#1. Problem: Given a text file, count the total number of words.\n",
    "filename = 'sample.txt'\n",
    "with open(filename,'r') as file:\n",
    "    text=file.read()\n",
    "    words=text.split()\n",
    "print(\"Total number of words:\",len(words))"
   ]
  },
  {
   "cell_type": "code",
   "execution_count": null,
   "id": "c912949d",
   "metadata": {},
   "outputs": [
    {
     "name": "stdout",
     "output_type": "stream",
     "text": [
      "'Abcd@1234' is strong: True\n"
     ]
    }
   ],
   "source": [
    "#2. Problem: Write a program to check if a password is strong (at least 8 characters, contains uppercase, lowercase, digit, and special char).\n",
    "import re\n",
    "def check_password_strength(password):\n",
    "    if len(password) < 8:\n",
    "        return False\n",
    "    if not re.search(r\"[A-Z]\", password):\n",
    "        return False\n",
    "    if not re.search(r\"[a-z]\", password):\n",
    "        return False\n",
    "    if not re.search(r\"[0-9]\", password):\n",
    "        return False\n",
    "    if not re.search(r\"[^a-zA-Z0-9]\", password):\n",
    "        return False\n",
    "    return True\n",
    "password = (input(\"Enter the password( min 8 characters):\"))\n",
    "print(f\"'{password}' is strong: {check_password_strength(password)}\")\n"
   ]
  },
  {
   "cell_type": "code",
   "execution_count": 20,
   "id": "ecde1343",
   "metadata": {},
   "outputs": [
    {
     "name": "stdout",
     "output_type": "stream",
     "text": [
      "5 5 +\n",
      "10\n"
     ]
    }
   ],
   "source": [
    "#3. Problem: Implement a calculator with +, -, *, / operations.\n",
    "def calculator(num1, num2, operation):\n",
    "    if operation == '+':\n",
    "        return num1 + num2\n",
    "    elif operation == '-':\n",
    "        return num1 - num2\n",
    "    elif operation == '*':\n",
    "        return num1 * num2\n",
    "    elif operation == '/':\n",
    "        if num2 != 0:\n",
    "            return num1 / num2\n",
    "        else:\n",
    "            return \"Error: Division by zero\"\n",
    "    else:\n",
    "        return \"Error: Invalid operation\"\n",
    "num1=int(input(\"Enter first number:\"))\n",
    "num2=int(input(\"Enter second number:\"))\n",
    "operation=input(\"Enter operation (+, -, *, /):\")\n",
    "print(num1,num2,operation)\n",
    "print(calculator(num1,num2,operation))"
   ]
  },
  {
   "cell_type": "code",
   "execution_count": 27,
   "id": "bb722eed",
   "metadata": {},
   "outputs": [
    {
     "name": "stdout",
     "output_type": "stream",
     "text": [
      "['Dog', 'Cat', 'Cat']\n",
      "Duplicate names are: ['Cat']\n"
     ]
    }
   ],
   "source": [
    "#4. Problem: Given a list of student names, find duplicates.\n",
    "def find_duplicates(names):\n",
    "    seen = list()\n",
    "    duplicates = list()\n",
    "    for name in names:\n",
    "        if name in seen:\n",
    "            duplicates.append(name)\n",
    "        else:\n",
    "            seen.append(name)\n",
    "    return list(duplicates)\n",
    "s = (input(\"Enter the names with space:\"))\n",
    "list(s.split())\n",
    "print(s.split())\n",
    "print(\"Duplicate names are:\",find_duplicates(s.split()))"
   ]
  },
  {
   "cell_type": "code",
   "execution_count": 28,
   "id": "2fb45c02",
   "metadata": {},
   "outputs": [
    {
     "name": "stdout",
     "output_type": "stream",
     "text": [
      "56.0°C is 132.8°F\n"
     ]
    }
   ],
   "source": [
    "#5. Problem: Convert between Celsius and Fahrenheit.\n",
    "def celsius_to_fahrenheit(celsius):\n",
    "    return (celsius * 9/5) + 32\n",
    "def fahrenheit_to_celsius(fahrenheit):\n",
    "    return (fahrenheit - 32) * 5/9\n",
    "temp = float(input(\"Enter the temperature:\"))\n",
    "unit = input(\"Enter the unit (C for Celsius, F for Fahrenheit): \").upper()\n",
    "if unit == 'C':\n",
    "    print(f\"{temp}°C is {celsius_to_fahrenheit(temp)}°F\")\n",
    "elif unit == 'F':\n",
    "    print(f\"{temp}°F is {fahrenheit_to_celsius(temp)}°C\")\n",
    "else:\n",
    "    print(\"Error: Invalid unit\")\n",
    "\n"
   ]
  },
  {
   "cell_type": "code",
   "execution_count": 1,
   "id": "1c309886",
   "metadata": {},
   "outputs": [
    {
     "name": "stdout",
     "output_type": "stream",
     "text": [
      "Largest number: 45\n"
     ]
    }
   ],
   "source": [
    "#6. Problem: Find the largest number from a list of integers.\n",
    "numbers = list(map(int, input(\"Enter numbers separated by spaces: \").split()))\n",
    "print(\"Largest number:\", max(numbers))\n"
   ]
  },
  {
   "cell_type": "code",
   "execution_count": null,
   "id": "4f54d48b",
   "metadata": {},
   "outputs": [],
   "source": []
  },
  {
   "cell_type": "code",
   "execution_count": 56,
   "id": "beccca94",
   "metadata": {},
   "outputs": [
    {
     "name": "stdout",
     "output_type": "stream",
     "text": [
      "39000.0 2.0 1.3\n",
      "1014.0\n"
     ]
    }
   ],
   "source": [
    "#7. Problem: Calculate Simple Interest.\n",
    "p=float(input(\"Principle\"))\n",
    "r=float(input(\"Rate\"))\n",
    "t=float(input(\"Time\"))\n",
    "print(p ,r , t)\n",
    "s=(p*r*t)/100\n",
    "print(s)\n"
   ]
  },
  {
   "cell_type": "code",
   "execution_count": 12,
   "id": "a0c7681b",
   "metadata": {},
   "outputs": [
    {
     "name": "stdout",
     "output_type": "stream",
     "text": [
      "['tej']\n",
      "['keerthi']\n"
     ]
    }
   ],
   "source": [
    "#8. Problem: Given a dictionary of student names and attendance %, find defaulters (<75%).\n",
    "d={'tej':68,'keerthi':57,'amulya':88,'indhu':97,'thappi':84}\n",
    "for i in d:\n",
    "    if d[i] <75:\n",
    "        print(list(i.split()))\n"
   ]
  },
  {
   "cell_type": "code",
   "execution_count": 7,
   "id": "80aa7130",
   "metadata": {},
   "outputs": [
    {
     "name": "stdout",
     "output_type": "stream",
     "text": [
      "12345\n",
      "15\n"
     ]
    }
   ],
   "source": [
    "#9. Problem: Input: 1234 → Output: 10\n",
    "def sumDigits(n):\n",
    "    total = 0\n",
    "    while n > 0:\n",
    "        total += n % 10\n",
    "        n //= 10\n",
    "    return total\n",
    "\n",
    "n = int(input());print(n)\n",
    "print(sumDigits(n))"
   ]
  },
  {
   "cell_type": "code",
   "execution_count": 8,
   "id": "fffb4d1a",
   "metadata": {},
   "outputs": [
    {
     "name": "stdout",
     "output_type": "stream",
     "text": [
      "56\n",
      "False\n"
     ]
    }
   ],
   "source": [
    "#10. Problem: Write a function to check if a number is prime.\n",
    "def is_prime(n):\n",
    "    if n <= 1:\n",
    "        return False\n",
    "    for i in range(2, int(n ** 0.5) + 1):\n",
    "        if n % i == 0:\n",
    "            return False\n",
    "    return True\n",
    "n = int(input(\"Enter a number: \"));print(n)\n",
    "print(is_prime(n))\n"
   ]
  },
  {
   "cell_type": "code",
   "execution_count": 9,
   "id": "47ca1741",
   "metadata": {},
   "outputs": [
    {
     "name": "stdout",
     "output_type": "stream",
     "text": [
      "[12, 34, 9, 67]\n",
      "67\n",
      "9\n"
     ]
    }
   ],
   "source": [
    "#11. Problem: Find smallest and largest numbers from a list.\n",
    "l = list(map(int, input().split()))\n",
    "print(l)\n",
    "print(max(l))\n",
    "print(min(l))"
   ]
  },
  {
   "cell_type": "code",
   "execution_count": 13,
   "id": "f926a30e",
   "metadata": {},
   "outputs": [
    {
     "name": "stdout",
     "output_type": "stream",
     "text": [
      "The total bill is: $27.49\n"
     ]
    }
   ],
   "source": [
    "#12. Problem: Given items with prices in a dictionary, calculate total bill.\n",
    "def calculate_total_bill(items):\n",
    "    total_bill = sum(items.values())\n",
    "    return total_bill\n",
    "items = {\n",
    "    \"item1\": 10.50,\n",
    "    \"item2\": 5.99,\n",
    "    \"item3\": 3.75,\n",
    "    \"item4\": 7.25\n",
    "}\n",
    "total = calculate_total_bill(items)\n",
    "print(f\"The total bill is: ${total:.2f}\")\n",
    "\n"
   ]
  },
  {
   "cell_type": "code",
   "execution_count": 16,
   "id": "1d899035",
   "metadata": {},
   "outputs": [
    {
     "name": "stdout",
     "output_type": "stream",
     "text": [
      "[34, 5, 6]\n",
      "34\n"
     ]
    }
   ],
   "source": [
    "#13. Problem: Input 3 numbers, print the largest.\n",
    "n=int(input())\n",
    "m=int(input())\n",
    "o=int(input())\n",
    "list=[n,m,o];print(list)\n",
    "print(max(list))"
   ]
  },
  {
   "cell_type": "code",
   "execution_count": null,
   "id": "92edc2f5",
   "metadata": {},
   "outputs": [
    {
     "name": "stdout",
     "output_type": "stream",
     "text": [
      "Character 'A' appears 1 time(s).\n",
      "Character 'p' appears 2 time(s).\n",
      "Character 'l' appears 1 time(s).\n",
      "Character 'e' appears 1 time(s).\n",
      "Character ' ' appears 1 time(s).\n"
     ]
    }
   ],
   "source": [
    "#14. Problem: Count how many times each character appears in a string.\n",
    "s = str(input())\n",
    "counts = {}\n",
    "for char in s:\n",
    "    if char in counts:\n",
    "        counts[char] += 1\n",
    "    else:\n",
    "        counts[char] = 1\n",
    "for char, count in counts.items():\n",
    "    print(f\"Character '{char}' appears {count} time(s).\")\n",
    "\n"
   ]
  },
  {
   "cell_type": "code",
   "execution_count": 18,
   "id": "286db4fe",
   "metadata": {},
   "outputs": [
    {
     "name": "stdout",
     "output_type": "stream",
     "text": [
      "Electricity bill for 670 units is: ₹5900\n"
     ]
    }
   ],
   "source": [
    "#15. Problem: Calculate electricity bill: First 100 units → ₹5/unit,Next 100 units → ₹7/unit,Above 200 units → ₹10/unit\n",
    "def electricity_bill(units):\n",
    "    if units <= 100:\n",
    "        bill = units * 5\n",
    "    elif units <= 200:\n",
    "        bill = (100 * 5) + (units - 100) * 7\n",
    "    else:\n",
    "        bill = (100 * 5) + (100 * 7) + (units - 200) * 10\n",
    "    return bill\n",
    "units_consumed = int(input(\"Enter the number of units consumed: \"))\n",
    "bill_amount = electricity_bill(units_consumed)\n",
    "print(f\"Electricity bill for {units_consumed} units is: ₹{bill_amount}\")\n"
   ]
  },
  {
   "cell_type": "code",
   "execution_count": 21,
   "id": "a764a05b",
   "metadata": {},
   "outputs": [
    {
     "name": "stdout",
     "output_type": "stream",
     "text": [
      "Sorted names:\n",
      "apple\n",
      "ball\n",
      "cat\n",
      "dog\n"
     ]
    }
   ],
   "source": [
    "#16. Problem: Sort a list of names in ascending order.\n",
    "n = int(input(\"Enter the number of names: \"))\n",
    "names = []\n",
    "for _ in range(n):\n",
    "    name = input(\"Enter a name: \")\n",
    "    names.append(name)\n",
    "names.sort()\n",
    "print(\"Sorted names:\")\n",
    "for name in names:\n",
    "    print(name)\n",
    "\n"
   ]
  },
  {
   "cell_type": "code",
   "execution_count": 26,
   "id": "cf8467ed",
   "metadata": {},
   "outputs": [
    {
     "name": "stdout",
     "output_type": "stream",
     "text": [
      "4321\n"
     ]
    }
   ],
   "source": [
    "#17. Problem: Input: 1234 → Output: 4321\n",
    "n=input()\n",
    "l=n[::-1]\n",
    "print(l)"
   ]
  },
  {
   "cell_type": "code",
   "execution_count": 28,
   "id": "00761fd6",
   "metadata": {},
   "outputs": [
    {
     "name": "stdout",
     "output_type": "stream",
     "text": [
      "Positive numbers: 2\n",
      "Negative numbers: 3\n",
      "Zero numbers: 2\n"
     ]
    }
   ],
   "source": [
    "#18. Problem: Given a list, count positive, negative, and zero numbers.\n",
    "def count_numbers(lst):\n",
    "    positive_count = len([num for num in lst if num > 0])\n",
    "    negative_count = len([num for num in lst if num < 0])\n",
    "    zero_count = len([num for num in lst if num == 0])\n",
    "    return positive_count, negative_count, zero_count\n",
    "n = int(input(\"Enter the number of elements: \"))\n",
    "numbers = [int(input(f\"Enter number {i+1}: \")) for i in range(n)]\n",
    "positives, negatives, zeros = count_numbers(numbers)\n",
    "print(f\"Positive numbers: {positives}\")\n",
    "print(f\"Negative numbers: {negatives}\")\n",
    "print(f\"Zero numbers: {zeros}\")\n",
    "\n"
   ]
  },
  {
   "cell_type": "code",
   "execution_count": 29,
   "id": "51f6f50e",
   "metadata": {},
   "outputs": [
    {
     "name": "stdout",
     "output_type": "stream",
     "text": [
      "Wrong PIN.\n",
      "Wrong PIN.\n",
      "Wrong PIN.\n",
      "No more attempts. Access denied.\n"
     ]
    }
   ],
   "source": [
    "#19. Problem: User has 3 attempts to enter correct PIN.\n",
    "pin = int(input(\"Set your PIN: \"))\n",
    "for _ in range(3):\n",
    "    g = int(input(\"Enter PIN: \"))\n",
    "    if g == pin:\n",
    "        print(\"Correct! Access granted.\")\n",
    "        break\n",
    "    else:\n",
    "        print(\"Wrong PIN.\")\n",
    "else:\n",
    "    print(\"No more attempts. Access denied.\")\n"
   ]
  },
  {
   "cell_type": "code",
   "execution_count": 31,
   "id": "f1ed9a3d",
   "metadata": {},
   "outputs": [
    {
     "name": "stdout",
     "output_type": "stream",
     "text": [
      "Error: Division by zero\n"
     ]
    }
   ],
   "source": [
    "#20. Problem: Write a program that asks for two numbers and divides them. Handle division by zero.\n",
    "def div(num1,num2,o):\n",
    "    if o == '/':\n",
    "        if num2 != 0:\n",
    "            return num1 / num2\n",
    "        else:\n",
    "            return \"Error: Division by zero\"\n",
    "    else:\n",
    "        return \"Error: Invalid operation\"\n",
    "num1=int(input(\"Enter first number:\"))\n",
    "num2=int(input(\"Enter second number:\"))\n",
    "o=input(\"Only operation (/): \")\n",
    "print(div(num1,num2,o))"
   ]
  },
  {
   "cell_type": "code",
   "execution_count": 32,
   "id": "ae718eed",
   "metadata": {},
   "outputs": [
    {
     "name": "stdout",
     "output_type": "stream",
     "text": [
      "Invalid input! Please enter numeric values.\n"
     ]
    }
   ],
   "source": [
    "#21. Problem: Write a program that handles both ValueError (invalid input) and ZeroDivisionError.\n",
    "try:\n",
    "    numerator = float(input(\"Enter the numerator: \"))\n",
    "    denominator = float(input(\"Enter the denominator: \"))\n",
    "    result = numerator / denominator\n",
    "except ValueError:\n",
    "    print(\"Invalid input! Please enter numeric values.\")\n",
    "except ZeroDivisionError:\n",
    "    print(\"Error! Cannot divide by zero.\")\n",
    "else:\n",
    "    print(f\"The result is {result}\")\n"
   ]
  },
  {
   "cell_type": "code",
   "execution_count": null,
   "id": "01d7fbb9",
   "metadata": {},
   "outputs": [
    {
     "name": "stdout",
     "output_type": "stream",
     "text": [
      "Withdrawal amount is greater than balance!\n"
     ]
    }
   ],
   "source": [
    "#22.Problem: If withdrawal amount is greater than balance, raise an exception.\n",
    "balance = int(input())\n",
    "def withdraw(amount):\n",
    "    if amount > balance:\n",
    "        raise Exception(\"Withdrawal amount is greater than balance!\")\n",
    "    else:\n",
    "        print(\"Withdrawal successful!\")\n",
    "try:\n",
    "    a=int(input())\n",
    "    withdraw(a)\n",
    "except Exception as e:\n",
    "    print(e)\n"
   ]
  },
  {
   "cell_type": "code",
   "execution_count": 35,
   "id": "c41c1826",
   "metadata": {},
   "outputs": [
    {
     "name": "stdout",
     "output_type": "stream",
     "text": [
      "Total price: ₹1500\n",
      "Bill processing finished\n"
     ]
    }
   ],
   "source": [
    "#23. Problem: Calculate total price, handle invalid input, and always show \"Bill processing finished\".First 100 units → ₹5/unit,Next 100 units → ₹7/unit,Above 200 units → ₹10/uni\n",
    "def calculate_bill(units):\n",
    "    if units < 0:\n",
    "        return None\n",
    "    total_price = 0\n",
    "    if units <= 100:\n",
    "        total_price = units * 5\n",
    "    elif units <= 200:\n",
    "        total_price = 100 * 5 + (units - 100) * 7\n",
    "    else:\n",
    "        total_price = 100 * 5 + 100 * 7 + (units - 200) * 10\n",
    "    return total_price\n",
    "try:\n",
    "    units = int(input(\"Enter number of units consumed: \"))\n",
    "    price = calculate_bill(units)\n",
    "    if price is None:\n",
    "        print(\"Invalid input! Units cannot be negative.\")\n",
    "    else:\n",
    "        print(f\"Total price: ₹{price}\")\n",
    "except ValueError:\n",
    "    print(\"Invalid input! Please enter a valid integer for units.\")\n",
    "finally:\n",
    "    print(\"Bill processing finished\")\n"
   ]
  }
 ],
 "metadata": {
  "kernelspec": {
   "display_name": "venv",
   "language": "python",
   "name": "python3"
  },
  "language_info": {
   "codemirror_mode": {
    "name": "ipython",
    "version": 3
   },
   "file_extension": ".py",
   "mimetype": "text/x-python",
   "name": "python",
   "nbconvert_exporter": "python",
   "pygments_lexer": "ipython3",
   "version": "3.11.0"
  }
 },
 "nbformat": 4,
 "nbformat_minor": 5
}
