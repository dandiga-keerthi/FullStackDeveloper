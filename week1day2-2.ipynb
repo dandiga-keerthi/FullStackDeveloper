{
 "cells": [
  {
   "cell_type": "code",
   "execution_count": null,
   "id": "c225cce1",
   "metadata": {},
   "outputs": [
    {
     "name": "stdout",
     "output_type": "stream",
     "text": [
      "Total bill: $ 310\n"
     ]
    }
   ],
   "source": [
    "#1 Scenario: A grocery shopkeeper wants to calculate the bill of 3 items. Prices and quantities should be stored in variables, and the program should display the total cost.\n",
    "#Sample Input:\n",
    "#Item1 Price: 50, Quantity: 2\n",
    "#Item2 Price: 30, Quantity: 5\n",
    "#Item3 Price: 20, Quantity: 3\n",
    "#Expected Output:\n",
    "#Total Bill = (50*2) + (30*5) + (20*3) = 100 + 150 + 60 = 310\n",
    "\n",
    "price = [50,30,20]\n",
    "quantity = [2,5,3]\n",
    "bill = 0\n",
    "for p, q in zip(price, quantity):\n",
    "    bill += p * q\n",
    "print(\"Total bill: \", bill)\n",
    "\n",
    "\n",
    "\n"
   ]
  },
  {
   "cell_type": "code",
   "execution_count": 13,
   "id": "f92905fb",
   "metadata": {},
   "outputs": [
    {
     "name": "stdout",
     "output_type": "stream",
     "text": [
      "Addition =  19\n",
      "Subtraction =  11\n",
      "Multiplication =  60\n",
      "Division =  3.75\n",
      "Modulus =  3\n"
     ]
    }
   ],
   "source": [
    "#2 Build a calculator that takes two numbers and performs addition, subtraction, multiplication, division, and modulus.\n",
    "#Sample Input:\n",
    "#Enter first number: 15\n",
    "#Enter second number: 4\n",
    "#Expected Output:\n",
    "#Addition = 19 Subtraction = 11 Multiplication = 60 Division = 3.75 Modulus = 3\n",
    "a=int(input(\"Enter first number:\"))\n",
    "b=int(input(\"Enter Second number:\"))\n",
    "print(\"Addition = \",(a+b))\n",
    "print(\"Subtraction = \",(a-b))\n",
    "print(\"Multiplication = \",(a*b))\n",
    "print(\"Division = \",(a/b))\n",
    "print(\"Modulus = \",(a%b))"
   ]
  },
  {
   "cell_type": "code",
   "execution_count": 10,
   "id": "181f9d69",
   "metadata": {},
   "outputs": [
    {
     "name": "stdout",
     "output_type": "stream",
     "text": [
      "Grade: A (Excellent)\n"
     ]
    }
   ],
   "source": [
    "#3. A teacher wants a grading system where marks are input, and the grade is displayed.\n",
    "#Sample Input: Enter marks: 82\n",
    "#Expected Output: Grade: A (Excellent)(Rules: >=90 → A+, 80–89 → A, 70–79 → B, 60–69 → C, <60 → Fail)\n",
    "m = int(input(\"Enter marks:\"))\n",
    "if m >= 90:\n",
    "    grade = \"A+ (Wonderful)\"\n",
    "elif m >=80:\n",
    "    grade = \"A (Excellent)\"\n",
    "elif m>= 70:\n",
    "    grade = \"B (Better)\"\n",
    "elif m>= 60:\n",
    "    grade = \"C (Good)\"\n",
    "else:\n",
    "    grade = \"Fail\"\n",
    "print(\"Grade:\", grade)\n",
    "\n"
   ]
  },
  {
   "cell_type": "code",
   "execution_count": 12,
   "id": "8c3bff0f",
   "metadata": {},
   "outputs": [
    {
     "name": "stdout",
     "output_type": "stream",
     "text": [
      "Highest Marks = 90\n",
      "Lowest Marks = 45\n",
      "Average Marks = 71.4\n"
     ]
    }
   ],
   "source": [
    "#4 Student Marks List\n",
    "# Scenario: Store marks of 5 students in a list. Display the highest, lowest, and average marks.\n",
    "#Sample Input: Marks: [45, 78, 88, 56, 90]\n",
    "#Expected Output: Highest Marks = 90 Lowest Marks = 45 Average Marks = 71.4\n",
    "m= input()\n",
    "marks = list(map(int, m.split()))\n",
    "if marks:\n",
    "    print(\"Highest Marks =\", max(marks))\n",
    "    print(\"Lowest Marks =\", min(marks))\n",
    "    print(\"Average Marks =\", sum(marks) / len(marks))\n",
    "else:\n",
    "    print(\"No marks were entered.\")"
   ]
  },
  {
   "cell_type": "code",
   "execution_count": 16,
   "id": "5a5162a5",
   "metadata": {},
   "outputs": [
    {
     "name": "stdout",
     "output_type": "stream",
     "text": [
      "Phone Number of Ravi: 9123456780\n"
     ]
    }
   ],
   "source": [
    "#5 Create a phonebook using a dictionary where names are keys and numbers are values. Allow searching for a number by name.\n",
    "#Sample Input:Phonebook = {\"Suhel\": 9876543210, \"Ravi\": 9123456780, \"Anita\": 9988776655}\n",
    "#Search Name: Ravi\n",
    "#Expected Output: Phone Number of Ravi: 9123456780\n",
    "phonebook = {}\n",
    "n = int(input(\"How many contacts do you want to add? \"))\n",
    "for i in range(n):\n",
    "    name = input(f\"Enter name for contact #{i + 1}: \").strip()\n",
    "    number = input(f\"Enter phone number for {name}: \").strip()\n",
    "    phonebook[name] = number\n",
    "search = input(\"\\nEnter the name to search: \").strip()\n",
    "if search in phonebook:\n",
    "    print(f\"Phone Number of {search}: {phonebook[search]}\")\n",
    "else:\n",
    "    print(f\"'{search}' not found in the phonebook.\")\n"
   ]
  },
  {
   "cell_type": "code",
   "execution_count": 2,
   "id": "af88c175",
   "metadata": {},
   "outputs": [
    {
     "name": "stdout",
     "output_type": "stream",
     "text": [
      "Total Words = 3\n",
      "Total Characters = 17\n",
      "Total Vowels = 6\n"
     ]
    }
   ],
   "source": [
    "#6 Write a program to count the number of words, characters, and vowels in a sentence.\n",
    "#Sample Input:Enter sentence: \"Python is awesome\"\n",
    "#Expected Output:Total Words = 3 Total Characters = 16 Total Vowels = 6\n",
    "sentence = input('Enter sentence: ')\n",
    "characters = len(sentence)\n",
    "words = sentence.split()\n",
    "total_words = len(words)\n",
    "total_vowels = 0\n",
    "vowels = \"aeiou\"\n",
    "for char in sentence.lower():\n",
    "    if char in vowels:\n",
    "        total_vowels += 1\n",
    "print(f\"Total Words = {total_words}\")\n",
    "print(f\"Total Characters = {characters}\")\n",
    "print(f\"Total Vowels = {total_vowels}\")"
   ]
  },
  {
   "cell_type": "code",
   "execution_count": 3,
   "id": "72e7019b",
   "metadata": {},
   "outputs": [
    {
     "name": "stdout",
     "output_type": "stream",
     "text": [
      "Simple Interest = 500.0\n",
      "Total Amount = 5500.0\n"
     ]
    }
   ],
   "source": [
    "#7 A bank provides simple interest and compound interest. A user inputs principal, rate, time, and type of interest. Program should calculate accordingly.\n",
    "#Sample Input: Principal = 5000 Rate = 5 Time = 2\n",
    "#Interest Type = Compound\n",
    "#Expected Output: Compound Interest = 512.50 Total Amount = 5512.50\n",
    "principal = float(input(\"Principal = \"))\n",
    "rate = float(input(\"Rate = \"))\n",
    "time = float(input(\"Time = \"))\n",
    "interest_type = input(\"Interest Type (Simple/Compound): \")\n",
    "\n",
    "if interest_type.lower() == \"simple\":\n",
    "    interest = (principal * rate * time) / 100\n",
    "    total = principal + interest\n",
    "    print(\"Simple Interest =\", round(interest, 2))\n",
    "    print(\"Total Amount =\", round(total, 2))\n",
    "elif interest_type.lower() == \"compound\":\n",
    "    amount = principal * (1 + rate / 100) ** time\n",
    "    interest = amount - principal\n",
    "    print(\"Compound Interest =\", round(interest, 2))\n",
    "    print(\"Total Amount =\", round(amount, 2))\n",
    "else:\n",
    "    print(\"Invalid Interest Type\")\n"
   ]
  },
  {
   "cell_type": "code",
   "execution_count": 4,
   "id": "e9adc3c9",
   "metadata": {},
   "outputs": [
    {
     "name": "stdout",
     "output_type": "stream",
     "text": [
      "Encrypted Message: KHOOR\n"
     ]
    }
   ],
   "source": [
    "#8 Implement a Caesar Cipher encryption. User inputs a message and a shift key. Program outputs the encrypted text using operators.\n",
    "#Sample Input:Message = \"HELLO\" Shift = 3\n",
    "#Expected Output: Encrypted Message: KHOOR\n",
    "message = input(\"Message = \")\n",
    "shift = int(input(\"Shift = \"))\n",
    "encrypted = \"\"\n",
    "\n",
    "for char in message:\n",
    "    if char.isalpha():\n",
    "        base = ord('A') if char.isupper() else ord('a')\n",
    "        encrypted += chr((ord(char) - base + shift) % 26 + base)\n",
    "    else:\n",
    "        encrypted += char\n",
    "\n",
    "print(\"Encrypted Message:\", encrypted)\n"
   ]
  },
  {
   "cell_type": "code",
   "execution_count": 5,
   "id": "793291a2",
   "metadata": {},
   "outputs": [
    {
     "name": "stdout",
     "output_type": "stream",
     "text": [
      "PIN Verified.\n",
      "Withdrawal Successful. Remaining Balance = 3000.0\n"
     ]
    }
   ],
   "source": [
    "#9 Build an ATM where users can withdraw money if they have sufficient balance, otherwise display “Insufficient Balance”. Handle PIN verification too.\n",
    "#Sample Input: PIN = 1234 Balance = 5000 Withdraw = 2000\n",
    "#Expected Output:PIN Verified.Withdrawal Successful. Remaining Balance = 3000\n",
    "correct_pin = \"1234\"\n",
    "pin = input(\"PIN = \")\n",
    "\n",
    "if pin == correct_pin:\n",
    "    balance = float(input(\"Balance = \"))\n",
    "    withdraw = float(input(\"Withdraw = \"))\n",
    "    if withdraw <= balance:\n",
    "        balance -= withdraw\n",
    "        print(\"PIN Verified.\")\n",
    "        print(\"Withdrawal Successful. Remaining Balance =\", balance)\n",
    "    else:\n",
    "        print(\"Insufficient Balance\")\n",
    "else:\n",
    "    print(\"Invalid PIN\")\n"
   ]
  },
  {
   "cell_type": "code",
   "execution_count": 6,
   "id": "ff3a433f",
   "metadata": {},
   "outputs": [
    {
     "name": "stdout",
     "output_type": "stream",
     "text": [
      "Current Books: ['Python Basics', 'AI Fundamentals', 'Machine Learning']\n",
      "Total Books: 3\n"
     ]
    }
   ],
   "source": [
    "#10. Store a list of books in a library. Program should allow adding, removing, and displaying all books. Also, show total number of books.\n",
    "#Sample Input:Books = [\"Python Basics\", \"Data Science\", \"AI Fundamentals\"],Add Book: \"Machine Learning\",Remove Book: \"Data Science\"\n",
    "# Expected Output: Current Books: ['Python Basics', 'AI Fundamentals', 'Machine Learning'],Total Books: 3\n",
    "books = [\"Python Basics\", \"Data Science\", \"AI Fundamentals\"]\n",
    "\n",
    "add_book = input(\"Add Book: \")\n",
    "remove_book = input(\"Remove Book: \")\n",
    "\n",
    "if remove_book in books:\n",
    "    books.remove(remove_book)\n",
    "books.append(add_book)\n",
    "\n",
    "print(\"Current Books:\", books)\n",
    "print(\"Total Books:\", len(books))\n"
   ]
  }
 ],
 "metadata": {
  "kernelspec": {
   "display_name": "venv",
   "language": "python",
   "name": "python3"
  },
  "language_info": {
   "codemirror_mode": {
    "name": "ipython",
    "version": 3
   },
   "file_extension": ".py",
   "mimetype": "text/x-python",
   "name": "python",
   "nbconvert_exporter": "python",
   "pygments_lexer": "ipython3",
   "version": "3.11.0"
  }
 },
 "nbformat": 4,
 "nbformat_minor": 5
}
