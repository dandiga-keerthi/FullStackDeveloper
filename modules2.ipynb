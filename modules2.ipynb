{
 "cells": [
  {
   "cell_type": "code",
   "execution_count": 2,
   "id": "d69ad351",
   "metadata": {},
   "outputs": [
    {
     "name": "stdout",
     "output_type": "stream",
     "text": [
      "Text files: 0\n",
      "Python files: 0\n"
     ]
    }
   ],
   "source": [
    "#1. os → Count Files by Extension Write a program using os to count how many .txt and .py files are in the current directory. Sample Input (files in folder): [\"notes.txt\", \"app.py\", \"data.csv\", \"report.txt\", \"main.py\"]\n",
    "#Sample Output: Text files: 2 Python files: 2\n",
    "import os\n",
    "def count_files():\n",
    "    files = os.listdir('.')\n",
    "    txt_count = sum(1 for f in files if f.endswith('.txt'))\n",
    "    py_count = sum(1 for f in files if f.endswith('.py'))\n",
    "    print(\"Text files:\", txt_count)\n",
    "    print(\"Python files:\", py_count)\n",
    "count_files()"
   ]
  },
  {
   "cell_type": "code",
   "execution_count": null,
   "id": "22cbd8ce",
   "metadata": {},
   "outputs": [
    {
     "name": "stdout",
     "output_type": "stream",
     "text": [
      "Mean = 87.86\n",
      "Median = 90\n",
      "Variance = 73.81\n"
     ]
    }
   ],
   "source": [
    "#2. statistics → Exam Score Analysis Use statistics to calculate the mean, median, and variance of student exam scores. Sample Input:\n",
    "#Scores = [75, 80, 90, 100, 85, 90, 95]\n",
    "#Sample Output:Mean = 87.86 , Median = 90 ,Variance = 73.81\n",
    "import statistics\n",
    "scores = list(map(int, input(\"\\nEnter exam scores separated by space: \").split()))\n",
    "mean = round(statistics.mean(scores), 2)\n",
    "median = statistics.median(scores)\n",
    "variance = round(statistics.variance(scores), 2)\n",
    "print(f\"Mean = {mean}\")\n",
    "print(f\"Median = {median}\")\n",
    "print(f\"Variance = {variance}\")"
   ]
  },
  {
   "cell_type": "code",
   "execution_count": 5,
   "id": "6c7cbd21",
   "metadata": {},
   "outputs": [
    {
     "name": "stdout",
     "output_type": "stream",
     "text": [
      "Roots are: 2.0 and 1.0\n"
     ]
    }
   ],
   "source": [
    "#3. math → Quadratic Equation Solver Use the math module to solve quadratic equations of the form ax² + bx + c = 0. Sample Input: a = 1, b = -3, c = 2\n",
    "#Sample Output:Roots are: 1.0 and 2.0\n",
    "import math\n",
    "a, b, c = map(float, input(\"Enter a, b, c separated by space: \").split())\n",
    "d = b**2 - 4*a*c\n",
    "if d < 0:\n",
    "    print(\"No Real Roots\")\n",
    "else:\n",
    "    root1 = (-b + math.sqrt(d)) / (2*a)\n",
    "    root2 = (-b - math.sqrt(d)) / (2*a)\n",
    "    print(f\"Roots are: {root1} and {root2}\")"
   ]
  },
  {
   "cell_type": "code",
   "execution_count": 7,
   "id": "76cca46b",
   "metadata": {},
   "outputs": [
    {
     "name": "stdout",
     "output_type": "stream",
     "text": [
      "You chose Scissors, Computer chose Paper\n",
      "You Win!\n"
     ]
    }
   ],
   "source": [
    "#4. random → Rock Paper Scissors Game Use random.choice() to let the computer play Rock–Paper–Scissors against the user. Sample Input: User: Rock ,Computer (random): Scissors\n",
    "#Sample Output: You chose Rock, Computer chose Scissors You Win!\n",
    "import random\n",
    "options = [\"Rock\", \"Paper\", \"Scissors\"]\n",
    "user_choice = input(\"\\nEnter Rock, Paper, or Scissors: \")\n",
    "comp_choice = random.choice(options)\n",
    "print(f\"You chose {user_choice}, Computer chose {comp_choice}\")\n",
    "\n",
    "if user_choice == comp_choice:\n",
    "    print(\"It's a Tie!\")\n",
    "elif (user_choice == \"Rock\" and comp_choice == \"Scissors\") or \\\n",
    "     (user_choice == \"Paper\" and comp_choice == \"Rock\") or \\\n",
    "     (user_choice == \"Scissors\" and comp_choice == \"Paper\"):\n",
    "    print(\"You Win!\")\n",
    "else:\n",
    "    print(\"You Lose!\")"
   ]
  },
  {
   "cell_type": "code",
   "execution_count": 8,
   "id": "c9f69034",
   "metadata": {},
   "outputs": [
    {
     "name": "stdout",
     "output_type": "stream",
     "text": [
      "Usage: python add.py num1 num2 num3\n"
     ]
    }
   ],
   "source": [
    "#5. sys → Sum from Command Line Write a program using sys.argv to take three numbers from the command line and print their sum. Sample Input (command line): python add.py 5 10 15\n",
    "#Sample Output: Sum = 30\n",
    "import sys\n",
    "if len(sys.argv) != 4:\n",
    "    print(\"Usage: python add.py num1 num2 num3\")\n",
    "else:\n",
    "    try:\n",
    "        numbers = list(map(int, sys.argv[1:]))\n",
    "        print(\"Sum =\", sum(numbers))\n",
    "    except ValueError:\n",
    "        print(\"Please enter only integers\")\n"
   ]
  }
 ],
 "metadata": {
  "kernelspec": {
   "display_name": "venv",
   "language": "python",
   "name": "python3"
  },
  "language_info": {
   "codemirror_mode": {
    "name": "ipython",
    "version": 3
   },
   "file_extension": ".py",
   "mimetype": "text/x-python",
   "name": "python",
   "nbconvert_exporter": "python",
   "pygments_lexer": "ipython3",
   "version": "3.11.0"
  }
 },
 "nbformat": 4,
 "nbformat_minor": 5
}
